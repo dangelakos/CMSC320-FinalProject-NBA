{
 "cells": [
  {
   "cell_type": "code",
   "execution_count": 2,
   "metadata": {},
   "outputs": [],
   "source": [
    "import pandas as pd\n"
   ]
  },
  {
   "cell_type": "code",
   "execution_count": 23,
   "metadata": {},
   "outputs": [
    {
     "data": {
      "text/plain": [
       "(46105, 49)"
      ]
     },
     "execution_count": 23,
     "metadata": {},
     "output_type": "execute_result"
    }
   ],
   "source": [
    "df = pd.read_csv('game.csv')\n",
    "\n",
    "df['game_date'] = pd.to_datetime(df['game_date'])\n",
    "cutoff_date = '1985-04-16'\n",
    "df = df[df['game_date'] >= cutoff_date]\n",
    "\n",
    "df.set_index('game_id', inplace=True)\n",
    "\n",
    "df.sort_values(by='game_date', ascending=True, inplace=True)\n",
    "\n",
    "df.drop(columns=['matchup_home', 'video_available_home', 'matchup_away', 'video_available_away'], inplace=True)\n",
    "df.dropna(inplace=True)\n",
    "\n",
    "df[\"winner\"] = df.apply(lambda row: \"Home\" if row[\"wl_home\"] == \"W\" else \"Away\", axis=1)\n",
    "df.drop(columns=['wl_home', 'wl_away'], inplace=True)\n",
    "\n",
    "df.shape"
   ]
  }
 ],
 "metadata": {
  "kernelspec": {
   "display_name": "Python 3",
   "language": "python",
   "name": "python3"
  },
  "language_info": {
   "codemirror_mode": {
    "name": "ipython",
    "version": 3
   },
   "file_extension": ".py",
   "mimetype": "text/x-python",
   "name": "python",
   "nbconvert_exporter": "python",
   "pygments_lexer": "ipython3",
   "version": "3.10.12"
  }
 },
 "nbformat": 4,
 "nbformat_minor": 2
}
